{
 "cells": [
  {
   "cell_type": "code",
   "execution_count": 1,
   "id": "ccd34301",
   "metadata": {},
   "outputs": [],
   "source": [
    "import numpy as np"
   ]
  },
  {
   "cell_type": "code",
   "execution_count": 6,
   "id": "c38f5479",
   "metadata": {},
   "outputs": [
    {
     "name": "stdout",
     "output_type": "stream",
     "text": [
      "weights :  [[ 4.  0.  2.  2.  2. -2. -4. -2.]\n",
      " [ 0.  4.  2.  2. -2. -2.  0. -2.]\n",
      " [ 2.  2.  4.  0.  0.  0. -2.  0.]\n",
      " [ 2.  2.  0.  4.  0. -4. -2. -4.]\n",
      " [ 2. -2.  0.  0.  4.  0. -2.  0.]\n",
      " [-2. -2.  0. -4.  0.  4.  2.  4.]\n",
      " [-4.  0. -2. -2. -2.  2.  4.  2.]\n",
      " [-2. -2.  0. -4.  0.  4.  2.  4.]]\n",
      "\n",
      "Input: [-1 -1 -1 -1  1  0  1  0]\n",
      "Output: [-1. -1. -1. -1.  1.  1.  1.  1.]\n",
      "\n",
      "Input: [ 0  1  1  1  1 -1 -1 -1]\n",
      "Output: [ 1.  1.  1.  1.  1. -1. -1. -1.]\n",
      "\n",
      "Input: [ 1 -1  0 -1  1  1 -1  1]\n",
      "Output: [ 1. -1.  1. -1.  1.  1. -1.  1.]\n",
      "\n",
      "Input: [ 0  1  1 -1 -1  0  1  1]\n",
      "Output: [-1.  1.  1. -1. -1.  1.  1.  1.]\n",
      "\n"
     ]
    }
   ],
   "source": [
    "class HofieldNetwork:\n",
    "    def __init__(self, num_neurons):\n",
    "        self.num_neurons = num_neurons\n",
    "        self.weights = np.zeros((num_neurons, num_neurons))\n",
    "        \n",
    "    def sigmoid(self, x):\n",
    "        return(1-np.exp(-x))/(1+np.exp(-x))\n",
    "    \n",
    "    def train(self, x):\n",
    "        num_vectors = len(vectors)\n",
    "        for vector in vectors:\n",
    "            vector = np.reshape(vector, (self.num_neurons, 1))\n",
    "            self.weights ++ np.dot(vector, vector.T)\n",
    "        print(\"weights :\", self.weights)\n",
    "        print()\n",
    "        \n",
    "    def recall(self, input_vector):\n",
    "        output=np.dot(self.weights,input_vector)\n",
    "        output=self.sigmoid(output)\n",
    "        output=np.sign(output)\n",
    "        return output\n",
    "    \n",
    "network = HopfieldNetwork(8)\n",
    "\n",
    "vectors = np.array([[-1,  -1,  -1,  -1,  1,  1,  1,  1],\n",
    "                    [ 1,   1,   1,   1,  1, -1, -1, -1],\n",
    "                    [ 1,  -1,   1,  -1,  1,  1, -1,  1],\n",
    "                    [-1,   1,   1,  -1, -1,  1,  1,  1]])\n",
    "\n",
    "network.train(vectors)\n",
    "\n",
    "vectors = np.array([[-1, -1, -1, -1,  1,  0,  1,  0],\n",
    "                    [ 0,  1,  1,  1,  1, -1, -1, -1],\n",
    "                    [ 1, -1,  0, -1,  1,  1, -1,  1],\n",
    "                    [ 0,  1,  1, -1, -1,  0,  1,  1]])\n",
    "\n",
    "for vector in vectors:\n",
    "    output = network.recall(vector)\n",
    "    print(\"Input:\", vector)\n",
    "    print(\"Output:\", output)\n",
    "    print()\n",
    "        "
   ]
  },
  {
   "cell_type": "code",
   "execution_count": null,
   "id": "7821c832",
   "metadata": {},
   "outputs": [],
   "source": []
  }
 ],
 "metadata": {
  "kernelspec": {
   "display_name": "Python 3 (ipykernel)",
   "language": "python",
   "name": "python3"
  },
  "language_info": {
   "codemirror_mode": {
    "name": "ipython",
    "version": 3
   },
   "file_extension": ".py",
   "mimetype": "text/x-python",
   "name": "python",
   "nbconvert_exporter": "python",
   "pygments_lexer": "ipython3",
   "version": "3.9.13"
  }
 },
 "nbformat": 4,
 "nbformat_minor": 5
}
